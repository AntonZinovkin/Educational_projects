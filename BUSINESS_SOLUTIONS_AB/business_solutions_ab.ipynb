{
 "cells": [
  {
   "cell_type": "markdown",
   "id": "34509e77",
   "metadata": {},
   "source": [
    "# АНАЛИЗ ГИПОТЕЗ ДЛЯ УВЕЛИЧЕНИЯ ВЫРУЧКИ В ИНТЕРНЕТ-МАГАЗИНЕ\n",
    "\n",
    "# Описание данных\n",
    "\n",
    "#### Файл \"hypothesis\" (содержит выдвинутые гипотезы):\n",
    " - Hypothesis — краткое описание гипотезы;\n",
    " - Reach — охват пользователей по 10-балльной шкале;\n",
    " - Impact — влияние на пользователей по 10-балльной шкале;\n",
    " - Confidence — уверенность в гипотезе по 10-балльной шкале;\n",
    " - Efforts — затраты ресурсов на проверку гипотезы по 10-балльной шкале. Чем больше значение Efforts, тем дороже проверка гипотезы.\n",
    " \n",
    "#### Файл \"orders\" (заказы покупатклей):\n",
    " - transactionId — идентификатор заказа;\n",
    " - visitorId — идентификатор пользователя, совершившего заказ;\n",
    " - date — дата, когда был совершён заказ;\n",
    " - revenue — выручка заказа;\n",
    " - group — группа A/B-теста, в которую попал заказ.\n",
    " \n",
    "#### Файл \"visitors\" (сожержит данные, необходимые для проведения A/B теста)\n",
    " - date — дата;\n",
    " - group — группа A/B-теста;\n",
    " - visitors — количество пользователей в указанную дату в указанной группе A/B-теста\n",
    "\n",
    "# Цель исследования:\n",
    "\n",
    "Проанализировать выдвинутые гипотезы, провести A/B тест, проанализировать результаты\n",
    "\n",
    "# Ход исследования:\n",
    "\n",
    "Проведение работы с предоставленнымифайлами в описании данными по следующему алгоритму:\n",
    "\n",
    "#### Приоритизация гипотез:\n",
    " - Применим фреймворк ICE для приоритизации гипотез. \n",
    " - Применим фреймворк RICE для приоритизации гипотез. \n",
    " - Рассмотрим как изменилась приоритизация гипотез при применении RICE вместо ICE.\n",
    " \n",
    "#### Анализ A/B-теста:\n",
    " - Построение графика кумулятивной выручки по группам.\n",
    " - Построение графика кумулятивного среднего чека по группам.\n",
    " - Построение графика относительного изменения кумулятивного среднего чека группы B к группе A. \n",
    " - Построение графика кумулятивного среднего количества заказов на посетителя по группам.\n",
    " - Построение графика относительного изменения кумулятивного среднего количества заказов на посетителя группы B к группе A.\n",
    " - Построение точечный график количества заказов по пользователям. \n",
    " - Рассчет 95-й и 99-й перцентили количества заказов на пользователя. \n",
    " - Рассчет 95-й и 99-й перцентили стоимости заказов.\n",
    " - Рассчет статистической значимости различий в среднем количестве заказов на посетителя между группами по «сырым» данным.\n",
    " - Рассчет статистической значимости различий в среднем чеке заказа между группами по «сырым» данным.\n",
    " - Рассчет статистической значимости различий в среднем количестве заказов на посетителя между группами по «очищенным» данным.\n",
    " - Рассчет статистической значимости различий в среднем чеке заказа между группами по «очищенным» данным.\n",
    " \n",
    "#### Итог:\n",
    " Выводы и рекоммендации по результатам теста"
   ]
  },
  {
   "cell_type": "code",
   "execution_count": 71,
   "id": "c640688b",
   "metadata": {},
   "outputs": [],
   "source": [
    "import pandas as pd\n",
    "import scipy.stats as stats\n",
    "import datetime as dt\n",
    "import numpy as np\n",
    "import matplotlib.pyplot as plt"
   ]
  },
  {
   "cell_type": "code",
   "execution_count": 72,
   "id": "b92b7a79",
   "metadata": {},
   "outputs": [],
   "source": [
    "try: \n",
    "    visitors = pd.read_csv('D:\\\\Практикум\\\\visitors.csv') # посещения\n",
    "    orders = pd.read_csv('D:\\\\Практикум\\\\orders.csv')  # заказы\n",
    "    hypothesis = pd.read_csv('D:\\\\Практикум\\\\hypothesis.csv')  # таблица с гипотезами\n",
    "except:\n",
    "    visitors = pd.read_csv('/datasets/visitors.csv') \n",
    "    orders = pd.read_csv('/datasets/orders.csv')\n",
    "    hypothesis = pd.read_csv('/datasets/hypothesis.csv')"
   ]
  },
  {
   "cell_type": "markdown",
   "id": "1b946115",
   "metadata": {},
   "source": [
    "### Предобработка данных"
   ]
  },
  {
   "cell_type": "code",
   "execution_count": 73,
   "id": "8a2499a6",
   "metadata": {},
   "outputs": [
    {
     "name": "stdout",
     "output_type": "stream",
     "text": [
      "<class 'pandas.core.frame.DataFrame'>\n",
      "RangeIndex: 9 entries, 0 to 8\n",
      "Data columns (total 5 columns):\n",
      " #   Column      Non-Null Count  Dtype \n",
      "---  ------      --------------  ----- \n",
      " 0   Hypothesis  9 non-null      object\n",
      " 1   Reach       9 non-null      int64 \n",
      " 2   Impact      9 non-null      int64 \n",
      " 3   Confidence  9 non-null      int64 \n",
      " 4   Efforts     9 non-null      int64 \n",
      "dtypes: int64(4), object(1)\n",
      "memory usage: 488.0+ bytes\n"
     ]
    }
   ],
   "source": [
    "# Изучим данные: \n",
    "\n",
    "hypothesis.info()"
   ]
  },
  {
   "cell_type": "code",
   "execution_count": 74,
   "id": "06306a58",
   "metadata": {
    "scrolled": true
   },
   "outputs": [
    {
     "data": {
      "text/html": [
       "<div>\n",
       "<style scoped>\n",
       "    .dataframe tbody tr th:only-of-type {\n",
       "        vertical-align: middle;\n",
       "    }\n",
       "\n",
       "    .dataframe tbody tr th {\n",
       "        vertical-align: top;\n",
       "    }\n",
       "\n",
       "    .dataframe thead th {\n",
       "        text-align: right;\n",
       "    }\n",
       "</style>\n",
       "<table border=\"1\" class=\"dataframe\">\n",
       "  <thead>\n",
       "    <tr style=\"text-align: right;\">\n",
       "      <th></th>\n",
       "      <th>hypothesis</th>\n",
       "      <th>reach</th>\n",
       "      <th>impact</th>\n",
       "      <th>confidence</th>\n",
       "      <th>efforts</th>\n",
       "    </tr>\n",
       "  </thead>\n",
       "  <tbody>\n",
       "    <tr>\n",
       "      <th>0</th>\n",
       "      <td>Добавить два новых канала привлечения трафика, что позволит привлекать на 30% больше пользователей</td>\n",
       "      <td>3</td>\n",
       "      <td>10</td>\n",
       "      <td>8</td>\n",
       "      <td>6</td>\n",
       "    </tr>\n",
       "    <tr>\n",
       "      <th>1</th>\n",
       "      <td>Запустить собственную службу доставки, что сократит срок доставки заказов</td>\n",
       "      <td>2</td>\n",
       "      <td>5</td>\n",
       "      <td>4</td>\n",
       "      <td>10</td>\n",
       "    </tr>\n",
       "    <tr>\n",
       "      <th>2</th>\n",
       "      <td>Добавить блоки рекомендаций товаров на сайт интернет магазина, чтобы повысить конверсию и средний чек заказа</td>\n",
       "      <td>8</td>\n",
       "      <td>3</td>\n",
       "      <td>7</td>\n",
       "      <td>3</td>\n",
       "    </tr>\n",
       "    <tr>\n",
       "      <th>3</th>\n",
       "      <td>Изменить структура категорий, что увеличит конверсию, т.к. пользователи быстрее найдут нужный товар</td>\n",
       "      <td>8</td>\n",
       "      <td>3</td>\n",
       "      <td>3</td>\n",
       "      <td>8</td>\n",
       "    </tr>\n",
       "    <tr>\n",
       "      <th>4</th>\n",
       "      <td>Изменить цвет фона главной страницы, чтобы увеличить вовлеченность пользователей</td>\n",
       "      <td>3</td>\n",
       "      <td>1</td>\n",
       "      <td>1</td>\n",
       "      <td>1</td>\n",
       "    </tr>\n",
       "    <tr>\n",
       "      <th>5</th>\n",
       "      <td>Добавить страницу отзывов клиентов о магазине, что позволит увеличить количество заказов</td>\n",
       "      <td>3</td>\n",
       "      <td>2</td>\n",
       "      <td>2</td>\n",
       "      <td>3</td>\n",
       "    </tr>\n",
       "    <tr>\n",
       "      <th>6</th>\n",
       "      <td>Показать на главной странице баннеры с актуальными акциями и распродажами, чтобы увеличить конверсию</td>\n",
       "      <td>5</td>\n",
       "      <td>3</td>\n",
       "      <td>8</td>\n",
       "      <td>3</td>\n",
       "    </tr>\n",
       "    <tr>\n",
       "      <th>7</th>\n",
       "      <td>Добавить форму подписки на все основные страницы, чтобы собрать базу клиентов для email-рассылок</td>\n",
       "      <td>10</td>\n",
       "      <td>7</td>\n",
       "      <td>8</td>\n",
       "      <td>5</td>\n",
       "    </tr>\n",
       "    <tr>\n",
       "      <th>8</th>\n",
       "      <td>Запустить акцию, дающую скидку на товар в день рождения</td>\n",
       "      <td>1</td>\n",
       "      <td>9</td>\n",
       "      <td>9</td>\n",
       "      <td>5</td>\n",
       "    </tr>\n",
       "  </tbody>\n",
       "</table>\n",
       "</div>"
      ],
      "text/plain": [
       "                                                                                                     hypothesis  \\\n",
       "0            Добавить два новых канала привлечения трафика, что позволит привлекать на 30% больше пользователей   \n",
       "1                                     Запустить собственную службу доставки, что сократит срок доставки заказов   \n",
       "2  Добавить блоки рекомендаций товаров на сайт интернет магазина, чтобы повысить конверсию и средний чек заказа   \n",
       "3           Изменить структура категорий, что увеличит конверсию, т.к. пользователи быстрее найдут нужный товар   \n",
       "4                              Изменить цвет фона главной страницы, чтобы увеличить вовлеченность пользователей   \n",
       "5                      Добавить страницу отзывов клиентов о магазине, что позволит увеличить количество заказов   \n",
       "6          Показать на главной странице баннеры с актуальными акциями и распродажами, чтобы увеличить конверсию   \n",
       "7              Добавить форму подписки на все основные страницы, чтобы собрать базу клиентов для email-рассылок   \n",
       "8                                                       Запустить акцию, дающую скидку на товар в день рождения   \n",
       "\n",
       "   reach  impact  confidence  efforts  \n",
       "0      3      10           8        6  \n",
       "1      2       5           4       10  \n",
       "2      8       3           7        3  \n",
       "3      8       3           3        8  \n",
       "4      3       1           1        1  \n",
       "5      3       2           2        3  \n",
       "6      5       3           8        3  \n",
       "7     10       7           8        5  \n",
       "8      1       9           9        5  "
      ]
     },
     "execution_count": 74,
     "metadata": {},
     "output_type": "execute_result"
    }
   ],
   "source": [
    "#перепишем названия столбцов с нижним регистром и тобразим таблицу полностью:\n",
    "hypothesis.columns = hypothesis.columns.str.lower()\n",
    "pd.set_option('display.max_columns', None)\n",
    "pd.set_option('display.max_colwidth', None)\n",
    "hypothesis"
   ]
  },
  {
   "cell_type": "markdown",
   "id": "f1dbba5e",
   "metadata": {},
   "source": [
    "Проблем таблице не обнаружено"
   ]
  },
  {
   "cell_type": "code",
   "execution_count": 75,
   "id": "8749449e",
   "metadata": {},
   "outputs": [
    {
     "name": "stdout",
     "output_type": "stream",
     "text": [
      "<class 'pandas.core.frame.DataFrame'>\n",
      "RangeIndex: 62 entries, 0 to 61\n",
      "Data columns (total 3 columns):\n",
      " #   Column    Non-Null Count  Dtype \n",
      "---  ------    --------------  ----- \n",
      " 0   date      62 non-null     object\n",
      " 1   group     62 non-null     object\n",
      " 2   visitors  62 non-null     int64 \n",
      "dtypes: int64(1), object(2)\n",
      "memory usage: 1.6+ KB\n"
     ]
    }
   ],
   "source": [
    "visitors.info()"
   ]
  },
  {
   "cell_type": "code",
   "execution_count": 76,
   "id": "0fc956a2",
   "metadata": {
    "scrolled": true
   },
   "outputs": [
    {
     "data": {
      "text/plain": [
       "0"
      ]
     },
     "execution_count": 76,
     "metadata": {},
     "output_type": "execute_result"
    }
   ],
   "source": [
    "# Проверка на дубликаты:\n",
    "visitors.duplicated().sum()"
   ]
  },
  {
   "cell_type": "code",
   "execution_count": 77,
   "id": "8422b027",
   "metadata": {
    "scrolled": false
   },
   "outputs": [],
   "source": [
    "# Изменим тип данных в столбце с датой:\n",
    "visitors['date'] = visitors['date'].map(\n",
    "    lambda x: dt.datetime.strptime(x, '%Y-%m-%d')\n",
    ")"
   ]
  },
  {
   "cell_type": "code",
   "execution_count": 78,
   "id": "be7e828b",
   "metadata": {},
   "outputs": [
    {
     "name": "stdout",
     "output_type": "stream",
     "text": [
      "<class 'pandas.core.frame.DataFrame'>\n",
      "RangeIndex: 62 entries, 0 to 61\n",
      "Data columns (total 3 columns):\n",
      " #   Column    Non-Null Count  Dtype         \n",
      "---  ------    --------------  -----         \n",
      " 0   date      62 non-null     datetime64[ns]\n",
      " 1   group     62 non-null     object        \n",
      " 2   visitors  62 non-null     int64         \n",
      "dtypes: datetime64[ns](1), int64(1), object(1)\n",
      "memory usage: 1.6+ KB\n",
      "None\n",
      " \n",
      "         date group  visitors\n",
      "0  2019-08-01     A       719\n",
      "1  2019-08-02     A       619\n",
      "2  2019-08-03     A       507\n",
      "3  2019-08-04     A       717\n",
      "4  2019-08-05     A       756\n",
      "..        ...   ...       ...\n",
      "57 2019-08-27     B       720\n",
      "58 2019-08-28     B       654\n",
      "59 2019-08-29     B       531\n",
      "60 2019-08-30     B       490\n",
      "61 2019-08-31     B       718\n",
      "\n",
      "[62 rows x 3 columns]\n"
     ]
    }
   ],
   "source": [
    "print(visitors.info(), ' ', visitors, sep = '\\n')"
   ]
  },
  {
   "cell_type": "code",
   "execution_count": 79,
   "id": "dcdacdb1",
   "metadata": {},
   "outputs": [
    {
     "name": "stdout",
     "output_type": "stream",
     "text": [
      "<class 'pandas.core.frame.DataFrame'>\n",
      "RangeIndex: 1197 entries, 0 to 1196\n",
      "Data columns (total 5 columns):\n",
      " #   Column         Non-Null Count  Dtype \n",
      "---  ------         --------------  ----- \n",
      " 0   transactionId  1197 non-null   int64 \n",
      " 1   visitorId      1197 non-null   int64 \n",
      " 2   date           1197 non-null   object\n",
      " 3   revenue        1197 non-null   int64 \n",
      " 4   group          1197 non-null   object\n",
      "dtypes: int64(3), object(2)\n",
      "memory usage: 46.9+ KB\n"
     ]
    }
   ],
   "source": [
    "orders.info()"
   ]
  },
  {
   "cell_type": "code",
   "execution_count": 80,
   "id": "92b7b9dd",
   "metadata": {},
   "outputs": [
    {
     "data": {
      "text/plain": [
       "0"
      ]
     },
     "execution_count": 80,
     "metadata": {},
     "output_type": "execute_result"
    }
   ],
   "source": [
    "# Проверка на дубликаты:\n",
    "orders.duplicated().sum()"
   ]
  },
  {
   "cell_type": "code",
   "execution_count": 81,
   "id": "cba0c546",
   "metadata": {},
   "outputs": [],
   "source": [
    "# Изменим тип данных в столбце с датой и приведем названия столбцов к единому стилю:\n",
    "orders['date'] = orders['date'].map(\n",
    "    lambda x: dt.datetime.strptime(x, '%Y-%m-%d')\n",
    ")\n",
    "\n",
    "orders.columns = ['transaction_id', 'visitor_id', 'date', 'revenue', 'group']      "
   ]
  },
  {
   "cell_type": "code",
   "execution_count": 82,
   "id": "296796e5",
   "metadata": {
    "scrolled": false
   },
   "outputs": [
    {
     "name": "stdout",
     "output_type": "stream",
     "text": [
      "<class 'pandas.core.frame.DataFrame'>\n",
      "RangeIndex: 1197 entries, 0 to 1196\n",
      "Data columns (total 5 columns):\n",
      " #   Column          Non-Null Count  Dtype         \n",
      "---  ------          --------------  -----         \n",
      " 0   transaction_id  1197 non-null   int64         \n",
      " 1   visitor_id      1197 non-null   int64         \n",
      " 2   date            1197 non-null   datetime64[ns]\n",
      " 3   revenue         1197 non-null   int64         \n",
      " 4   group           1197 non-null   object        \n",
      "dtypes: datetime64[ns](1), int64(3), object(1)\n",
      "memory usage: 46.9+ KB\n",
      "None\n",
      " \n",
      "      transaction_id  visitor_id       date  revenue group\n",
      "0         3667963787  3312258926 2019-08-15     1650     B\n",
      "1         2804400009  3642806036 2019-08-15      730     B\n",
      "2         2961555356  4069496402 2019-08-15      400     A\n",
      "3         3797467345  1196621759 2019-08-15     9759     B\n",
      "4         2282983706  2322279887 2019-08-15     2308     B\n",
      "...              ...         ...        ...      ...   ...\n",
      "1192      2662137336  3733762160 2019-08-14     6490     B\n",
      "1193      2203539145   370388673 2019-08-14     3190     A\n",
      "1194      1807773912   573423106 2019-08-14    10550     A\n",
      "1195      1947021204  1614305549 2019-08-14      100     A\n",
      "1196      3936777065  2108080724 2019-08-15   202740     B\n",
      "\n",
      "[1197 rows x 5 columns]\n"
     ]
    }
   ],
   "source": [
    "print(orders.info(), ' ', orders, sep = '\\n')"
   ]
  },
  {
   "cell_type": "markdown",
   "id": "898b932b",
   "metadata": {},
   "source": [
    "##### Данные готовы к работе: тип данных приведен к ожидаемому, дубликатов не обнаружено. "
   ]
  },
  {
   "cell_type": "markdown",
   "id": "4d8666c5",
   "metadata": {},
   "source": [
    "### Приоритизация гипотез"
   ]
  },
  {
   "cell_type": "markdown",
   "id": "7732fe5b",
   "metadata": {},
   "source": [
    "#### Применим фреймворк ICE для приоритизации гипотез. Отсортируем их по убыванию приоритета:"
   ]
  },
  {
   "cell_type": "code",
   "execution_count": 83,
   "id": "e80d2e73",
   "metadata": {},
   "outputs": [
    {
     "data": {
      "text/html": [
       "<div>\n",
       "<style scoped>\n",
       "    .dataframe tbody tr th:only-of-type {\n",
       "        vertical-align: middle;\n",
       "    }\n",
       "\n",
       "    .dataframe tbody tr th {\n",
       "        vertical-align: top;\n",
       "    }\n",
       "\n",
       "    .dataframe thead th {\n",
       "        text-align: right;\n",
       "    }\n",
       "</style>\n",
       "<table border=\"1\" class=\"dataframe\">\n",
       "  <thead>\n",
       "    <tr style=\"text-align: right;\">\n",
       "      <th></th>\n",
       "      <th>hypothesis</th>\n",
       "      <th>ice</th>\n",
       "    </tr>\n",
       "  </thead>\n",
       "  <tbody>\n",
       "    <tr>\n",
       "      <th>8</th>\n",
       "      <td>Запустить акцию, дающую скидку на товар в день рождения</td>\n",
       "      <td>16.20</td>\n",
       "    </tr>\n",
       "    <tr>\n",
       "      <th>0</th>\n",
       "      <td>Добавить два новых канала привлечения трафика, что позволит привлекать на 30% больше пользователей</td>\n",
       "      <td>13.33</td>\n",
       "    </tr>\n",
       "    <tr>\n",
       "      <th>7</th>\n",
       "      <td>Добавить форму подписки на все основные страницы, чтобы собрать базу клиентов для email-рассылок</td>\n",
       "      <td>11.20</td>\n",
       "    </tr>\n",
       "    <tr>\n",
       "      <th>6</th>\n",
       "      <td>Показать на главной странице баннеры с актуальными акциями и распродажами, чтобы увеличить конверсию</td>\n",
       "      <td>8.00</td>\n",
       "    </tr>\n",
       "    <tr>\n",
       "      <th>2</th>\n",
       "      <td>Добавить блоки рекомендаций товаров на сайт интернет магазина, чтобы повысить конверсию и средний чек заказа</td>\n",
       "      <td>7.00</td>\n",
       "    </tr>\n",
       "  </tbody>\n",
       "</table>\n",
       "</div>"
      ],
      "text/plain": [
       "                                                                                                     hypothesis  \\\n",
       "8                                                       Запустить акцию, дающую скидку на товар в день рождения   \n",
       "0            Добавить два новых канала привлечения трафика, что позволит привлекать на 30% больше пользователей   \n",
       "7              Добавить форму подписки на все основные страницы, чтобы собрать базу клиентов для email-рассылок   \n",
       "6          Показать на главной странице баннеры с актуальными акциями и распродажами, чтобы увеличить конверсию   \n",
       "2  Добавить блоки рекомендаций товаров на сайт интернет магазина, чтобы повысить конверсию и средний чек заказа   \n",
       "\n",
       "     ice  \n",
       "8  16.20  \n",
       "0  13.33  \n",
       "7  11.20  \n",
       "6   8.00  \n",
       "2   7.00  "
      ]
     },
     "execution_count": 83,
     "metadata": {},
     "output_type": "execute_result"
    }
   ],
   "source": [
    "hypothesis['ice'] = hypothesis['impact'] * hypothesis['confidence'] / hypothesis['efforts']\n",
    "\n",
    "hypothesis[['hypothesis', 'ice']].sort_values(by='ice', ascending=False).head(5).round({'ice': 2})"
   ]
  },
  {
   "cell_type": "markdown",
   "id": "e996985b",
   "metadata": {},
   "source": [
    "#### Применим фреймворк RICE для приоритизации гипотез. Отсортируем их по убыванию приоритета:"
   ]
  },
  {
   "cell_type": "code",
   "execution_count": 84,
   "id": "5931c7cb",
   "metadata": {
    "scrolled": true
   },
   "outputs": [
    {
     "data": {
      "text/html": [
       "<div>\n",
       "<style scoped>\n",
       "    .dataframe tbody tr th:only-of-type {\n",
       "        vertical-align: middle;\n",
       "    }\n",
       "\n",
       "    .dataframe tbody tr th {\n",
       "        vertical-align: top;\n",
       "    }\n",
       "\n",
       "    .dataframe thead th {\n",
       "        text-align: right;\n",
       "    }\n",
       "</style>\n",
       "<table border=\"1\" class=\"dataframe\">\n",
       "  <thead>\n",
       "    <tr style=\"text-align: right;\">\n",
       "      <th></th>\n",
       "      <th>hypothesis</th>\n",
       "      <th>rice</th>\n",
       "    </tr>\n",
       "  </thead>\n",
       "  <tbody>\n",
       "    <tr>\n",
       "      <th>7</th>\n",
       "      <td>Добавить форму подписки на все основные страницы, чтобы собрать базу клиентов для email-рассылок</td>\n",
       "      <td>112.0</td>\n",
       "    </tr>\n",
       "    <tr>\n",
       "      <th>2</th>\n",
       "      <td>Добавить блоки рекомендаций товаров на сайт интернет магазина, чтобы повысить конверсию и средний чек заказа</td>\n",
       "      <td>56.0</td>\n",
       "    </tr>\n",
       "    <tr>\n",
       "      <th>0</th>\n",
       "      <td>Добавить два новых канала привлечения трафика, что позволит привлекать на 30% больше пользователей</td>\n",
       "      <td>40.0</td>\n",
       "    </tr>\n",
       "    <tr>\n",
       "      <th>6</th>\n",
       "      <td>Показать на главной странице баннеры с актуальными акциями и распродажами, чтобы увеличить конверсию</td>\n",
       "      <td>40.0</td>\n",
       "    </tr>\n",
       "    <tr>\n",
       "      <th>8</th>\n",
       "      <td>Запустить акцию, дающую скидку на товар в день рождения</td>\n",
       "      <td>16.2</td>\n",
       "    </tr>\n",
       "  </tbody>\n",
       "</table>\n",
       "</div>"
      ],
      "text/plain": [
       "                                                                                                     hypothesis  \\\n",
       "7              Добавить форму подписки на все основные страницы, чтобы собрать базу клиентов для email-рассылок   \n",
       "2  Добавить блоки рекомендаций товаров на сайт интернет магазина, чтобы повысить конверсию и средний чек заказа   \n",
       "0            Добавить два новых канала привлечения трафика, что позволит привлекать на 30% больше пользователей   \n",
       "6          Показать на главной странице баннеры с актуальными акциями и распродажами, чтобы увеличить конверсию   \n",
       "8                                                       Запустить акцию, дающую скидку на товар в день рождения   \n",
       "\n",
       "    rice  \n",
       "7  112.0  \n",
       "2   56.0  \n",
       "0   40.0  \n",
       "6   40.0  \n",
       "8   16.2  "
      ]
     },
     "execution_count": 84,
     "metadata": {},
     "output_type": "execute_result"
    }
   ],
   "source": [
    "hypothesis['rice'] = hypothesis['reach'] * hypothesis['impact'] * hypothesis['confidence'] / hypothesis['efforts']\n",
    "\n",
    "hypothesis[['hypothesis', 'rice']].sort_values(by='rice', ascending=False).head(5)"
   ]
  },
  {
   "cell_type": "markdown",
   "id": "ace8bf64",
   "metadata": {},
   "source": [
    "#### После применения разрых фреймворков топ 5 гипотех остались прежними, однако, более других выделяется гипотеза во фреймворке RICE \"О добавлении формы подписки на все основные страницы\", ее показатель вдвое превышает показатель второго места. Это связано с добавлением параметра \"reach\" в фомулу для расчета с показателем 10 и высокими показатетями других параметров в числителе и отномительно невысоким показателем трудозатрат в знаменателе. Остальные гипотезы тоже поменяли свой порядок из-за введения нового параметра.      "
   ]
  },
  {
   "cell_type": "markdown",
   "id": "5893f43c",
   "metadata": {},
   "source": [
    "### Анализ A/B-теста"
   ]
  },
  {
   "cell_type": "markdown",
   "id": "32c30ab5",
   "metadata": {},
   "source": [
    "В первую очередь проанализируем кумулятивные метрики, для этого: "
   ]
  },
  {
   "cell_type": "code",
   "execution_count": 85,
   "id": "fae4d05c",
   "metadata": {},
   "outputs": [
    {
     "data": {
      "text/html": [
       "<div>\n",
       "<style scoped>\n",
       "    .dataframe tbody tr th:only-of-type {\n",
       "        vertical-align: middle;\n",
       "    }\n",
       "\n",
       "    .dataframe tbody tr th {\n",
       "        vertical-align: top;\n",
       "    }\n",
       "\n",
       "    .dataframe thead th {\n",
       "        text-align: right;\n",
       "    }\n",
       "</style>\n",
       "<table border=\"1\" class=\"dataframe\">\n",
       "  <thead>\n",
       "    <tr style=\"text-align: right;\">\n",
       "      <th></th>\n",
       "      <th>date</th>\n",
       "      <th>group</th>\n",
       "      <th>transaction_id</th>\n",
       "      <th>visitor_id</th>\n",
       "      <th>revenue</th>\n",
       "    </tr>\n",
       "  </thead>\n",
       "  <tbody>\n",
       "    <tr>\n",
       "      <th>55</th>\n",
       "      <td>2019-08-01</td>\n",
       "      <td>A</td>\n",
       "      <td>24</td>\n",
       "      <td>20</td>\n",
       "      <td>148579</td>\n",
       "    </tr>\n",
       "    <tr>\n",
       "      <th>66</th>\n",
       "      <td>2019-08-01</td>\n",
       "      <td>B</td>\n",
       "      <td>21</td>\n",
       "      <td>20</td>\n",
       "      <td>101217</td>\n",
       "    </tr>\n",
       "    <tr>\n",
       "      <th>175</th>\n",
       "      <td>2019-08-02</td>\n",
       "      <td>A</td>\n",
       "      <td>44</td>\n",
       "      <td>38</td>\n",
       "      <td>242401</td>\n",
       "    </tr>\n",
       "    <tr>\n",
       "      <th>173</th>\n",
       "      <td>2019-08-02</td>\n",
       "      <td>B</td>\n",
       "      <td>45</td>\n",
       "      <td>43</td>\n",
       "      <td>266748</td>\n",
       "    </tr>\n",
       "    <tr>\n",
       "      <th>291</th>\n",
       "      <td>2019-08-03</td>\n",
       "      <td>A</td>\n",
       "      <td>68</td>\n",
       "      <td>62</td>\n",
       "      <td>354874</td>\n",
       "    </tr>\n",
       "    <tr>\n",
       "      <th>...</th>\n",
       "      <td>...</td>\n",
       "      <td>...</td>\n",
       "      <td>...</td>\n",
       "      <td>...</td>\n",
       "      <td>...</td>\n",
       "    </tr>\n",
       "    <tr>\n",
       "      <th>496</th>\n",
       "      <td>2019-08-29</td>\n",
       "      <td>B</td>\n",
       "      <td>596</td>\n",
       "      <td>544</td>\n",
       "      <td>5559398</td>\n",
       "    </tr>\n",
       "    <tr>\n",
       "      <th>730</th>\n",
       "      <td>2019-08-30</td>\n",
       "      <td>A</td>\n",
       "      <td>545</td>\n",
       "      <td>493</td>\n",
       "      <td>4022970</td>\n",
       "    </tr>\n",
       "    <tr>\n",
       "      <th>690</th>\n",
       "      <td>2019-08-30</td>\n",
       "      <td>B</td>\n",
       "      <td>620</td>\n",
       "      <td>567</td>\n",
       "      <td>5774631</td>\n",
       "    </tr>\n",
       "    <tr>\n",
       "      <th>958</th>\n",
       "      <td>2019-08-31</td>\n",
       "      <td>A</td>\n",
       "      <td>557</td>\n",
       "      <td>503</td>\n",
       "      <td>4084803</td>\n",
       "    </tr>\n",
       "    <tr>\n",
       "      <th>930</th>\n",
       "      <td>2019-08-31</td>\n",
       "      <td>B</td>\n",
       "      <td>640</td>\n",
       "      <td>586</td>\n",
       "      <td>5907760</td>\n",
       "    </tr>\n",
       "  </tbody>\n",
       "</table>\n",
       "<p>62 rows × 5 columns</p>\n",
       "</div>"
      ],
      "text/plain": [
       "          date group  transaction_id  visitor_id  revenue\n",
       "55  2019-08-01     A              24          20   148579\n",
       "66  2019-08-01     B              21          20   101217\n",
       "175 2019-08-02     A              44          38   242401\n",
       "173 2019-08-02     B              45          43   266748\n",
       "291 2019-08-03     A              68          62   354874\n",
       "..         ...   ...             ...         ...      ...\n",
       "496 2019-08-29     B             596         544  5559398\n",
       "730 2019-08-30     A             545         493  4022970\n",
       "690 2019-08-30     B             620         567  5774631\n",
       "958 2019-08-31     A             557         503  4084803\n",
       "930 2019-08-31     B             640         586  5907760\n",
       "\n",
       "[62 rows x 5 columns]"
      ]
     },
     "execution_count": 85,
     "metadata": {},
     "output_type": "execute_result"
    }
   ],
   "source": [
    "# создаем массив уникальных пар значений дат и групп теста\n",
    "dates_groups = orders[['date','group']].drop_duplicates()\n",
    "\n",
    "# получаем агрегированные кумулятивные по дням данные о заказах \n",
    "orders_aggregated = dates_groups.apply(lambda x: orders[\n",
    "    np.logical_and(\n",
    "        orders['date'] <= x['date'], orders['group'] == x['group']\n",
    "    )\n",
    "].agg(\n",
    "    {'date' : 'max', \n",
    "     'group' : 'max', \n",
    "     'transaction_id' : 'nunique', \n",
    "     'visitor_id' : 'nunique', \n",
    "     'revenue' : 'sum'}), axis=1).sort_values(by=['date','group'])\n",
    "\n",
    "orders_aggregated"
   ]
  },
  {
   "cell_type": "code",
   "execution_count": 86,
   "id": "071126e4",
   "metadata": {},
   "outputs": [
    {
     "data": {
      "text/html": [
       "<div>\n",
       "<style scoped>\n",
       "    .dataframe tbody tr th:only-of-type {\n",
       "        vertical-align: middle;\n",
       "    }\n",
       "\n",
       "    .dataframe tbody tr th {\n",
       "        vertical-align: top;\n",
       "    }\n",
       "\n",
       "    .dataframe thead th {\n",
       "        text-align: right;\n",
       "    }\n",
       "</style>\n",
       "<table border=\"1\" class=\"dataframe\">\n",
       "  <thead>\n",
       "    <tr style=\"text-align: right;\">\n",
       "      <th></th>\n",
       "      <th>date</th>\n",
       "      <th>group</th>\n",
       "      <th>visitors</th>\n",
       "    </tr>\n",
       "  </thead>\n",
       "  <tbody>\n",
       "    <tr>\n",
       "      <th>55</th>\n",
       "      <td>2019-08-01</td>\n",
       "      <td>A</td>\n",
       "      <td>719</td>\n",
       "    </tr>\n",
       "    <tr>\n",
       "      <th>66</th>\n",
       "      <td>2019-08-01</td>\n",
       "      <td>B</td>\n",
       "      <td>713</td>\n",
       "    </tr>\n",
       "    <tr>\n",
       "      <th>175</th>\n",
       "      <td>2019-08-02</td>\n",
       "      <td>A</td>\n",
       "      <td>1338</td>\n",
       "    </tr>\n",
       "    <tr>\n",
       "      <th>173</th>\n",
       "      <td>2019-08-02</td>\n",
       "      <td>B</td>\n",
       "      <td>1294</td>\n",
       "    </tr>\n",
       "    <tr>\n",
       "      <th>291</th>\n",
       "      <td>2019-08-03</td>\n",
       "      <td>A</td>\n",
       "      <td>1845</td>\n",
       "    </tr>\n",
       "    <tr>\n",
       "      <th>...</th>\n",
       "      <td>...</td>\n",
       "      <td>...</td>\n",
       "      <td>...</td>\n",
       "    </tr>\n",
       "    <tr>\n",
       "      <th>496</th>\n",
       "      <td>2019-08-29</td>\n",
       "      <td>B</td>\n",
       "      <td>17708</td>\n",
       "    </tr>\n",
       "    <tr>\n",
       "      <th>730</th>\n",
       "      <td>2019-08-30</td>\n",
       "      <td>A</td>\n",
       "      <td>18037</td>\n",
       "    </tr>\n",
       "    <tr>\n",
       "      <th>690</th>\n",
       "      <td>2019-08-30</td>\n",
       "      <td>B</td>\n",
       "      <td>18198</td>\n",
       "    </tr>\n",
       "    <tr>\n",
       "      <th>958</th>\n",
       "      <td>2019-08-31</td>\n",
       "      <td>A</td>\n",
       "      <td>18736</td>\n",
       "    </tr>\n",
       "    <tr>\n",
       "      <th>930</th>\n",
       "      <td>2019-08-31</td>\n",
       "      <td>B</td>\n",
       "      <td>18916</td>\n",
       "    </tr>\n",
       "  </tbody>\n",
       "</table>\n",
       "<p>62 rows × 3 columns</p>\n",
       "</div>"
      ],
      "text/plain": [
       "          date group  visitors\n",
       "55  2019-08-01     A       719\n",
       "66  2019-08-01     B       713\n",
       "175 2019-08-02     A      1338\n",
       "173 2019-08-02     B      1294\n",
       "291 2019-08-03     A      1845\n",
       "..         ...   ...       ...\n",
       "496 2019-08-29     B     17708\n",
       "730 2019-08-30     A     18037\n",
       "690 2019-08-30     B     18198\n",
       "958 2019-08-31     A     18736\n",
       "930 2019-08-31     B     18916\n",
       "\n",
       "[62 rows x 3 columns]"
      ]
     },
     "execution_count": 86,
     "metadata": {},
     "output_type": "execute_result"
    }
   ],
   "source": [
    "# получаем агрегированные кумулятивные по дням данные о посетителях интернет-магазина \n",
    "visitors_aggregated = dates_groups.apply(\n",
    "    lambda x: visitors[\n",
    "        np.logical_and(visitors['date'] <= x['date'], visitors['group'] == x['group'])\n",
    "    ].agg(\n",
    "        {'date' : 'max', \n",
    "         'group' : 'max', \n",
    "         'visitors' : 'sum'}), axis=1).sort_values(by=['date','group'])\n",
    "\n",
    "visitors_aggregated"
   ]
  },
  {
   "cell_type": "code",
   "execution_count": 87,
   "id": "79b42bf5",
   "metadata": {},
   "outputs": [
    {
     "name": "stdout",
     "output_type": "stream",
     "text": [
      "        date group  orders  buyers  revenue  visitors\n",
      "0 2019-08-01     A      24      20   148579       719\n",
      "1 2019-08-01     B      21      20   101217       713\n",
      "2 2019-08-02     A      44      38   242401      1338\n",
      "3 2019-08-02     B      45      43   266748      1294\n",
      "4 2019-08-03     A      68      62   354874      1845\n"
     ]
    }
   ],
   "source": [
    "# объединяем кумулятивные данные в одной таблице и присваиваем ее столбцам понятные названия\n",
    "cumulative_data = orders_aggregated.merge(\n",
    "    visitors_aggregated, left_on=['date', 'group'], right_on=['date', 'group'])\n",
    "cumulative_data.columns = ['date', \n",
    "                          'group', \n",
    "                          'orders', \n",
    "                          'buyers', \n",
    "                          'revenue', \n",
    "                          'visitors']\n",
    "\n",
    "print(cumulative_data.head(5))"
   ]
  },
  {
   "cell_type": "code",
   "execution_count": 88,
   "id": "adc55179",
   "metadata": {
    "scrolled": false
   },
   "outputs": [
    {
     "name": "stdout",
     "output_type": "stream",
     "text": [
      "2019-08-01 00:00:00  ,  2019-08-31 00:00:00\n",
      "2019-08-01 00:00:00  ,  2019-08-31 00:00:00\n",
      "2019-08-01 00:00:00  ,  2019-08-31 00:00:00\n"
     ]
    }
   ],
   "source": [
    "# Проверим корректность созданного датафрейма по минимальный и максимальным датам:\n",
    "print(cumulative_data.date.min(),' , ', cumulative_data.date.max())\n",
    "print(visitors.date.min(),' , ', visitors.date.max())\n",
    "print(orders.date.min(),' , ', orders.date.max())"
   ]
  },
  {
   "cell_type": "markdown",
   "id": "f86cf683",
   "metadata": {},
   "source": [
    "Даты совпадают"
   ]
  },
  {
   "cell_type": "markdown",
   "id": "e6145e01",
   "metadata": {},
   "source": [
    "#### График кумулятивной выручки по группам"
   ]
  },
  {
   "cell_type": "code",
   "execution_count": 89,
   "id": "42c3baf0",
   "metadata": {},
   "outputs": [
    {
     "data": {
      "image/png": "[encoded data removed]",
      "text/plain": [
       "<Figure size 720x360 with 1 Axes>"
      ]
     },
     "metadata": {
      "needs_background": "light"
     },
     "output_type": "display_data"
    }
   ],
   "source": [
    "# датафрейм с кумулятивным количеством заказов и кумулятивной выручкой по дням в группе А\n",
    "cumulative_revenue_a = cumulative_data[cumulative_data['group']=='A'][['date','revenue', 'orders']]\n",
    "\n",
    "# датафрейм с кумулятивным количеством заказов и кумулятивной выручкой по дням в группе B\n",
    "cumulative_revenue_b = cumulative_data[cumulative_data['group']=='B'][['date','revenue', 'orders']]\n",
    "\n",
    "fig, ax = plt.subplots(figsize=(10, 5))\n",
    "\n",
    "# Строим график выручки группы А\n",
    "plt.plot(cumulative_revenue_a['date'], cumulative_revenue_a['revenue'], label='A')\n",
    "\n",
    "# Строим график выручки группы B\n",
    "plt.plot(cumulative_revenue_b['date'], cumulative_revenue_b['revenue'], label='B')\n",
    "\n",
    "plt.title('График динамики кумулятивной выручки по группам А и В')\n",
    "plt.ylabel(\"Выручка, млн.\")\n",
    "plt.xticks(rotation=30)\n",
    "plt.legend()\n",
    "plt.show()"
   ]
  },
  {
   "cell_type": "markdown",
   "id": "0a286183",
   "metadata": {},
   "source": [
    "Мы наблюдаем схожие темпы роста кумулятивной выручки, однако примерно 18го чмсла график В резко пошел вверх, это может свидетельствовать об аномально большом заказе в этот период в плане стоимости покупки, либо о резком всплеске количества заказов в указанный период. "
   ]
  },
  {
   "cell_type": "markdown",
   "id": "c8c93ce2",
   "metadata": {},
   "source": [
    "#### График кумулятивного среднего чека по группам"
   ]
  },
  {
   "cell_type": "code",
   "execution_count": 90,
   "id": "9c54d149",
   "metadata": {},
   "outputs": [
    {
     "data": {
      "image/png": "[encoded data removed]",
      "text/plain": [
       "<Figure size 720x360 with 1 Axes>"
      ]
     },
     "metadata": {
      "needs_background": "light"
     },
     "output_type": "display_data"
    }
   ],
   "source": [
    "fig, ax = plt.subplots(figsize=(10, 5))\n",
    "# Разделим кумулятивную выручку на кумулятивное число заказов для каждой группы:\n",
    "plt.plot(cumulative_revenue_a['date'], cumulative_revenue_a['revenue']/cumulative_revenue_a['orders'], label='A')\n",
    "plt.plot(cumulative_revenue_b['date'], cumulative_revenue_b['revenue']/cumulative_revenue_b['orders'], label='B')\n",
    "plt.xticks(rotation=30)\n",
    "plt.legend()\n",
    "plt.title('Кумулятивный средний чек')\n",
    "plt.show()"
   ]
  },
  {
   "cell_type": "markdown",
   "id": "3bb01020",
   "metadata": {},
   "source": [
    "Мы можем наблюдать выравнивание обоих графиков во второй половине наблюдаемого периода, однако в обозначенный ранее приод, 18го числа произощел аномальный рост графика В с последующим подением, что так же свидетельствует о наличии аномально дорогого заказа.  "
   ]
  },
  {
   "cell_type": "markdown",
   "id": "b85757cc",
   "metadata": {},
   "source": [
    "#### Построим график относительного различия для среднего чека"
   ]
  },
  {
   "cell_type": "code",
   "execution_count": 91,
   "id": "e2196420",
   "metadata": {},
   "outputs": [
    {
     "data": {
      "image/png": "[encoded data removed]",
      "text/plain": [
       "<Figure size 720x360 with 1 Axes>"
      ]
     },
     "metadata": {
      "needs_background": "light"
     },
     "output_type": "display_data"
    }
   ],
   "source": [
    "fig, ax = plt.subplots(figsize=(10, 5))\n",
    "\n",
    "# собираем данные в одном датафрейме\n",
    "merged_cumulative_revenue = cumulative_revenue_a.merge(\n",
    "    cumulative_revenue_b, left_on='date', right_on='date', how='left', suffixes=['_a', '_b']\n",
    ")\n",
    "\n",
    "# cтроим отношение средних чеков\n",
    "plt.plot(merged_cumulative_revenue['date'], (\n",
    "   merged_cumulative_revenue['revenue_b']/merged_cumulative_revenue['orders_b'])/\n",
    "         (merged_cumulative_revenue['revenue_a']/merged_cumulative_revenue['orders_a'])-1\n",
    "        )\n",
    "\n",
    "plt.axhline(y=0, color='black', linestyle='--') \n",
    "plt.title('График относительного изменения кумулятивного среднего чека группы B к группе A')\n",
    "plt.xticks(rotation=30)\n",
    "plt.show()"
   ]
  },
  {
   "cell_type": "markdown",
   "id": "997e8112",
   "metadata": {},
   "source": [
    "Мы налюдаем скачкообразную картину, которая скорее всего свидетельствует об аномалиях"
   ]
  },
  {
   "cell_type": "markdown",
   "id": "ff830c0d",
   "metadata": {},
   "source": [
    "#### Построим график кумулятивной конверсии"
   ]
  },
  {
   "cell_type": "code",
   "execution_count": 92,
   "id": "ce1a79f1",
   "metadata": {},
   "outputs": [
    {
     "data": {
      "text/plain": [
       "<matplotlib.legend.Legend at 0x7fae684e90a0>"
      ]
     },
     "execution_count": 92,
     "metadata": {},
     "output_type": "execute_result"
    },
    {
     "data": {
      "image/png": "[encoded data removed]",
      "text/plain": [
       "<Figure size 720x360 with 1 Axes>"
      ]
     },
     "metadata": {
      "needs_background": "light"
     },
     "output_type": "display_data"
    }
   ],
   "source": [
    "fig, ax = plt.subplots(figsize=(10, 5))\n",
    "\n",
    "# считаем кумулятивную конверсию\n",
    "cumulative_data['conversion'] = cumulative_data['orders']/cumulative_data['visitors']\n",
    "\n",
    "# отделяем данные по группе A\n",
    "cumulative_data_a= cumulative_data[cumulative_data['group']=='A']\n",
    "\n",
    "# отделяем данные по группе B\n",
    "cumulative_data_b = cumulative_data[cumulative_data['group']=='B']\n",
    "\n",
    "# строим графики\n",
    "plt.plot(cumulative_data_a['date'], cumulative_data_a['conversion'], label='A')\n",
    "plt.plot(cumulative_data_b['date'], cumulative_data_b['conversion'], label='B')\n",
    "plt.title('Кумулятивная конверсия по группам')\n",
    "plt.xticks(rotation=30)\n",
    "plt.legend()"
   ]
  },
  {
   "cell_type": "markdown",
   "id": "db036a8f",
   "metadata": {},
   "source": [
    "Мы налюдаем резкие скачки конверсии в начале наюлюдения для обоих групп, при этом после выравнивания график А слегка возрастает, а график В после аномального скачка идет вниз  "
   ]
  },
  {
   "cell_type": "markdown",
   "id": "d27a9e7a",
   "metadata": {},
   "source": [
    "#### График относительного различия кумулятивных конверсий"
   ]
  },
  {
   "cell_type": "code",
   "execution_count": 93,
   "id": "9706412a",
   "metadata": {},
   "outputs": [
    {
     "data": {
      "image/png": "[encoded data removed]",
      "text/plain": [
       "<Figure size 720x360 with 1 Axes>"
      ]
     },
     "metadata": {
      "needs_background": "light"
     },
     "output_type": "display_data"
    }
   ],
   "source": [
    "fig, ax = plt.subplots(figsize=(10, 5))\n",
    "\n",
    "merged_cumulative_conversions = cumulative_data_a[['date','conversion']].merge(\n",
    "    cumulative_data_b[['date','conversion']], left_on='date', right_on='date', how='left', suffixes=['A', 'B']\n",
    ")\n",
    "\n",
    "plt.plot(merged_cumulative_conversions['date'], merged_cumulative_conversions['conversionB']/\n",
    "         merged_cumulative_conversions['conversionA']-1)\n",
    "\n",
    "plt.axhline(y=0, color='black', linestyle='--')\n",
    "plt.title('Относительный прирост конверсии группы B относительно группы A')\n",
    "plt.xticks(rotation=30)\n",
    "plt.show()\n"
   ]
  },
  {
   "cell_type": "markdown",
   "id": "a0b89463",
   "metadata": {},
   "source": [
    "Мы наблюдаем явный относительный прирост конверсии группы В относитенльно А "
   ]
  },
  {
   "cell_type": "markdown",
   "id": "8bc88db4",
   "metadata": {},
   "source": [
    "##### Промедуточный вывод: во многих графиках мы наблюдаем превосходство группы В на группой А, при этим мноие графики видетельствуют о том, что группа В в большей степени оказалась под влиянием выбросов.  "
   ]
  },
  {
   "cell_type": "markdown",
   "id": "d02a86a4",
   "metadata": {},
   "source": [
    "### Анализ выбросов "
   ]
  },
  {
   "cell_type": "markdown",
   "id": "4f8c7751",
   "metadata": {},
   "source": [
    "\n",
    "\n",
    "#### Построим точечную диаграмму числа заказов на одного пользователя"
   ]
  },
  {
   "cell_type": "code",
   "execution_count": 94,
   "id": "98066e6c",
   "metadata": {},
   "outputs": [
    {
     "data": {
      "image/png": "[encoded data removed]",
      "text/plain": [
       "<Figure size 720x360 with 1 Axes>"
      ]
     },
     "metadata": {
      "needs_background": "light"
     },
     "output_type": "display_data"
    }
   ],
   "source": [
    "orders_by_users = (\n",
    "    orders.groupby('visitor_id', as_index=False)\n",
    "    .agg({'transaction_id': 'nunique'})\n",
    ")\n",
    "orders_by_users.columns =  ['visitor_id', 'orders']\n",
    "\n",
    "x_values = pd.Series(range(0,len(orders_by_users)))\n",
    "\n",
    "fig, ax = plt.subplots(figsize=(10, 5))\n",
    "\n",
    "# строим точечную диаграмму\n",
    "plt.scatter(x_values, orders_by_users['orders'], color='green', alpha=0.5)\n",
    "plt.title('Распределение количества заказов по пользователям')\n",
    "plt.show()"
   ]
  },
  {
   "cell_type": "markdown",
   "id": "011687de",
   "metadata": {},
   "source": [
    "Судя по графику, большинство пользователей делает 1-2 заказа, Посчитаем 95-й и 99-й перцентили количества заказов на пользователя и выберем границу для определения аномальных пользователей:"
   ]
  },
  {
   "cell_type": "code",
   "execution_count": 95,
   "id": "2820b625",
   "metadata": {},
   "outputs": [
    {
     "data": {
      "text/plain": [
       "array([2., 4.])"
      ]
     },
     "execution_count": 95,
     "metadata": {},
     "output_type": "execute_result"
    }
   ],
   "source": [
    "np.percentile(orders_by_users['orders'], [95, 99])"
   ]
  },
  {
   "cell_type": "markdown",
   "id": "c378c61c",
   "metadata": {},
   "source": [
    "Не более 5% пользователей совержают более 2х покупок и не более 1% - более 4х покупок. Отметим в качестстве верхней границы для определения аномальных заказов 4 покупки. "
   ]
  },
  {
   "cell_type": "markdown",
   "id": "f2e54f9f",
   "metadata": {},
   "source": [
    "#### Построим точечный график стоимостей заказов"
   ]
  },
  {
   "cell_type": "code",
   "execution_count": 96,
   "id": "fdc10ea1",
   "metadata": {},
   "outputs": [
    {
     "data": {
      "image/png": "[encoded data removed]",
      "text/plain": [
       "<Figure size 720x360 with 1 Axes>"
      ]
     },
     "metadata": {
      "needs_background": "light"
     },
     "output_type": "display_data"
    }
   ],
   "source": [
    "fig, ax = plt.subplots(figsize=(10, 5))\n",
    "plt.scatter(pd.Series(range(0,len(orders))), orders['revenue'])\n",
    "plt.title('Распределение стоимости заказов')\n",
    "plt.show()"
   ]
  },
  {
   "cell_type": "code",
   "execution_count": 97,
   "id": "c89b1063",
   "metadata": {},
   "outputs": [
    {
     "data": {
      "image/png": "[encoded data removed]",
      "text/plain": [
       "<Figure size 720x360 with 1 Axes>"
      ]
     },
     "metadata": {
      "needs_background": "light"
     },
     "output_type": "display_data"
    }
   ],
   "source": [
    "\n",
    "fig, ax = plt.subplots(figsize=(10, 5))\n",
    "plt.scatter(pd.Series(range(0,len(orders))), orders['revenue'])\n",
    "plt.title('Распределение стоимости заказов')\n",
    "plt.ylim(0, 100000)\n",
    "plt.show()"
   ]
  },
  {
   "cell_type": "markdown",
   "id": "d0ab9a10",
   "metadata": {},
   "source": [
    "Мы наблюдаем явно выделяющийся по своей стоиомсти заказ. Возможно, это был тот самый заказ, который стал причиной аномальнго поведения графиков группы B. Изменив масштаб, мы видим, что основая масса покупок находится в пределах 40000р. Посчитаем 95-й и 99-й перцентили стоимости заказов: "
   ]
  },
  {
   "cell_type": "code",
   "execution_count": 98,
   "id": "24580094",
   "metadata": {},
   "outputs": [
    {
     "name": "stdout",
     "output_type": "stream",
     "text": [
      "[28000.  58233.2]\n"
     ]
    }
   ],
   "source": [
    "print(np.percentile(orders['revenue'], [95, 99]))"
   ]
  },
  {
   "cell_type": "markdown",
   "id": "c32c2ebd",
   "metadata": {},
   "source": [
    "Выберем в качатве границы аномальных заказов 99й перцентиль (заказы не дороже 58233,2р.)"
   ]
  },
  {
   "cell_type": "markdown",
   "id": "ad1c7359",
   "metadata": {},
   "source": [
    "## Статистистический анализ данных"
   ]
  },
  {
   "cell_type": "markdown",
   "id": "0d9964ae",
   "metadata": {},
   "source": [
    "### Расчет статистической значимости различий в среднем количестве заказов на посетителя между группами по «сырым» данным"
   ]
  },
  {
   "cell_type": "markdown",
   "id": "87ffe2be",
   "metadata": {},
   "source": [
    "Т.к. мы наблюдали значительное кол-во выбросов в данных, воспользуемся критерием проверки Манна-Уитни и подготовим данные соотвутсвующим образом. "
   ]
  },
  {
   "cell_type": "code",
   "execution_count": 99,
   "id": "0a3e4fd2",
   "metadata": {},
   "outputs": [
    {
     "data": {
      "text/html": [
       "<div>\n",
       "<style scoped>\n",
       "    .dataframe tbody tr th:only-of-type {\n",
       "        vertical-align: middle;\n",
       "    }\n",
       "\n",
       "    .dataframe tbody tr th {\n",
       "        vertical-align: top;\n",
       "    }\n",
       "\n",
       "    .dataframe thead th {\n",
       "        text-align: right;\n",
       "    }\n",
       "</style>\n",
       "<table border=\"1\" class=\"dataframe\">\n",
       "  <thead>\n",
       "    <tr style=\"text-align: right;\">\n",
       "      <th></th>\n",
       "      <th>date</th>\n",
       "      <th>orders_daily_a</th>\n",
       "      <th>revenue_per_date_a</th>\n",
       "      <th>orders_daily_b</th>\n",
       "      <th>revenue_per_date_b</th>\n",
       "      <th>orders_cummulative_a</th>\n",
       "      <th>revenue_cummulative_a</th>\n",
       "      <th>orders_cummulative_b</th>\n",
       "      <th>revenue_cummulative_b</th>\n",
       "      <th>visitors_per_date_a</th>\n",
       "      <th>visitors_per_date_b</th>\n",
       "      <th>visitors_cummulative_a</th>\n",
       "      <th>visitors_cummulative_b</th>\n",
       "    </tr>\n",
       "  </thead>\n",
       "  <tbody>\n",
       "    <tr>\n",
       "      <th>0</th>\n",
       "      <td>2019-08-01</td>\n",
       "      <td>24</td>\n",
       "      <td>148579</td>\n",
       "      <td>21</td>\n",
       "      <td>101217</td>\n",
       "      <td>24</td>\n",
       "      <td>148579</td>\n",
       "      <td>21</td>\n",
       "      <td>101217</td>\n",
       "      <td>719</td>\n",
       "      <td>713</td>\n",
       "      <td>719</td>\n",
       "      <td>713</td>\n",
       "    </tr>\n",
       "    <tr>\n",
       "      <th>1</th>\n",
       "      <td>2019-08-02</td>\n",
       "      <td>20</td>\n",
       "      <td>93822</td>\n",
       "      <td>24</td>\n",
       "      <td>165531</td>\n",
       "      <td>44</td>\n",
       "      <td>242401</td>\n",
       "      <td>45</td>\n",
       "      <td>266748</td>\n",
       "      <td>619</td>\n",
       "      <td>581</td>\n",
       "      <td>1338</td>\n",
       "      <td>1294</td>\n",
       "    </tr>\n",
       "    <tr>\n",
       "      <th>2</th>\n",
       "      <td>2019-08-03</td>\n",
       "      <td>24</td>\n",
       "      <td>112473</td>\n",
       "      <td>16</td>\n",
       "      <td>114248</td>\n",
       "      <td>68</td>\n",
       "      <td>354874</td>\n",
       "      <td>61</td>\n",
       "      <td>380996</td>\n",
       "      <td>507</td>\n",
       "      <td>509</td>\n",
       "      <td>1845</td>\n",
       "      <td>1803</td>\n",
       "    </tr>\n",
       "    <tr>\n",
       "      <th>3</th>\n",
       "      <td>2019-08-04</td>\n",
       "      <td>16</td>\n",
       "      <td>70825</td>\n",
       "      <td>17</td>\n",
       "      <td>108571</td>\n",
       "      <td>84</td>\n",
       "      <td>425699</td>\n",
       "      <td>78</td>\n",
       "      <td>489567</td>\n",
       "      <td>717</td>\n",
       "      <td>770</td>\n",
       "      <td>2562</td>\n",
       "      <td>2573</td>\n",
       "    </tr>\n",
       "    <tr>\n",
       "      <th>4</th>\n",
       "      <td>2019-08-05</td>\n",
       "      <td>25</td>\n",
       "      <td>124218</td>\n",
       "      <td>23</td>\n",
       "      <td>92428</td>\n",
       "      <td>109</td>\n",
       "      <td>549917</td>\n",
       "      <td>101</td>\n",
       "      <td>581995</td>\n",
       "      <td>756</td>\n",
       "      <td>707</td>\n",
       "      <td>3318</td>\n",
       "      <td>3280</td>\n",
       "    </tr>\n",
       "    <tr>\n",
       "      <th>5</th>\n",
       "      <td>2019-08-06</td>\n",
       "      <td>18</td>\n",
       "      <td>48484</td>\n",
       "      <td>28</td>\n",
       "      <td>242342</td>\n",
       "      <td>127</td>\n",
       "      <td>598401</td>\n",
       "      <td>129</td>\n",
       "      <td>824337</td>\n",
       "      <td>667</td>\n",
       "      <td>655</td>\n",
       "      <td>3985</td>\n",
       "      <td>3935</td>\n",
       "    </tr>\n",
       "  </tbody>\n",
       "</table>\n",
       "</div>"
      ],
      "text/plain": [
       "        date  orders_daily_a  revenue_per_date_a  orders_daily_b  \\\n",
       "0 2019-08-01              24              148579              21   \n",
       "1 2019-08-02              20               93822              24   \n",
       "2 2019-08-03              24              112473              16   \n",
       "3 2019-08-04              16               70825              17   \n",
       "4 2019-08-05              25              124218              23   \n",
       "5 2019-08-06              18               48484              28   \n",
       "\n",
       "   revenue_per_date_b  orders_cummulative_a  revenue_cummulative_a  \\\n",
       "0              101217                    24                 148579   \n",
       "1              165531                    44                 242401   \n",
       "2              114248                    68                 354874   \n",
       "3              108571                    84                 425699   \n",
       "4               92428                   109                 549917   \n",
       "5              242342                   127                 598401   \n",
       "\n",
       "   orders_cummulative_b  revenue_cummulative_b  visitors_per_date_a  \\\n",
       "0                    21                 101217                  719   \n",
       "1                    45                 266748                  619   \n",
       "2                    61                 380996                  507   \n",
       "3                    78                 489567                  717   \n",
       "4                   101                 581995                  756   \n",
       "5                   129                 824337                  667   \n",
       "\n",
       "   visitors_per_date_b  visitors_cummulative_a  visitors_cummulative_b  \n",
       "0                  713                     719                     713  \n",
       "1                  581                    1338                    1294  \n",
       "2                  509                    1845                    1803  \n",
       "3                  770                    2562                    2573  \n",
       "4                  707                    3318                    3280  \n",
       "5                  655                    3985                    3935  "
      ]
     },
     "execution_count": 99,
     "metadata": {},
     "output_type": "execute_result"
    }
   ],
   "source": [
    "#Подготовим данные для анализа:\n",
    "\n",
    "visitors_daily_a = visitors[visitors['group'] == 'A'][['date', 'visitors']]\n",
    "visitors_daily_a.columns = ['date', 'visitors_per_date_a']\n",
    "\n",
    "visitors_cummulative_a = visitors_daily_a.apply(\n",
    "    lambda x: visitors_daily_a[visitors_daily_a['date'] <= x['date']].agg(\n",
    "        {'date': 'max', 'visitors_per_date_a': 'sum'}\n",
    "    ),\n",
    "    axis=1,\n",
    ")\n",
    "visitors_cummulative_a.columns = ['date', 'visitors_cummulative_a']\n",
    "\n",
    "visitors_daily_b = visitors[visitors['group'] == 'B'][['date', 'visitors']]\n",
    "visitors_daily_b.columns = ['date', 'visitors_per_date_b']\n",
    "\n",
    "visitors_cummulative_b = visitors_daily_b.apply(\n",
    "    lambda x: visitors_daily_b[visitors_daily_b['date'] <= x['date']].agg(\n",
    "        {'date': 'max', 'visitors_per_date_b': 'sum'}\n",
    "    ),\n",
    "    axis=1,\n",
    ")\n",
    "visitors_cummulative_b.columns = ['date', 'visitors_cummulative_b']\n",
    "\n",
    "orders_daily_a = (\n",
    "    orders[orders['group'] == 'A'][['date', 'transaction_id', 'visitor_id', 'revenue']]\n",
    "    .groupby('date', as_index=False)\n",
    "    .agg({'transaction_id': pd.Series.nunique, 'revenue': 'sum'})\n",
    ")\n",
    "orders_daily_a.columns = ['date', 'orders_daily_a', 'revenue_per_date_a']\n",
    "\n",
    "orders_cummulative_a = orders_daily_a.apply(\n",
    "    lambda x: orders_daily_a[orders_daily_a['date'] <= x['date']].agg(\n",
    "        {'date': 'max', 'orders_daily_a': 'sum', 'revenue_per_date_a': 'sum'}\n",
    "    ),\n",
    "    axis=1,\n",
    ").sort_values(by=['date'])\n",
    "\n",
    "orders_cummulative_a.columns = ['date','orders_cummulative_a','revenue_cummulative_a']\n",
    "\n",
    "orders_daily_b = (\n",
    "    orders[orders['group'] == 'B'][['date', 'transaction_id', 'visitor_id', 'revenue']]\n",
    "    .groupby('date', as_index=False)\n",
    "    .agg({'transaction_id': pd.Series.nunique, 'revenue': 'sum'})\n",
    ")\n",
    "orders_daily_b.columns = ['date', 'orders_daily_b', 'revenue_per_date_b']\n",
    "\n",
    "orders_cummulative_b = orders_daily_b.apply(\n",
    "    lambda x: orders_daily_b[orders_daily_b['date'] <= x['date']].agg(\n",
    "        {'date': 'max', 'orders_daily_b': 'sum', 'revenue_per_date_b': 'sum'}\n",
    "    ),\n",
    "     axis=1,\n",
    ").sort_values(by=['date'])\n",
    "\n",
    "orders_cummulative_b.columns = ['date','orders_cummulative_b','revenue_cummulative_b']\n",
    "\n",
    "\n",
    "data = (\n",
    "    orders_daily_a.merge(\n",
    "        orders_daily_b, left_on='date', right_on='date', how='left'\n",
    "    )\n",
    "    .merge(orders_cummulative_a, left_on='date', right_on='date', how='left')\n",
    "    .merge(orders_cummulative_b, left_on='date', right_on='date', how='left')\n",
    "    .merge(visitors_daily_a, left_on='date', right_on='date', how='left')\n",
    "    .merge(visitors_daily_b, left_on='date', right_on='date', how='left')\n",
    "    .merge(visitors_cummulative_a, left_on='date', right_on='date', how='left')\n",
    "    .merge(visitors_cummulative_b, left_on='date', right_on='date', how='left')\n",
    ")\n",
    "\n",
    "data.head(6)"
   ]
  },
  {
   "cell_type": "markdown",
   "id": "f1a02a57",
   "metadata": {},
   "source": [
    "    date — дата;\n",
    "    orders_daily_a — количество заказов в выбранную дату в группе A;\n",
    "    revenue_per_date_a — суммарная выручка в выбранную дату в группе A;\n",
    "    orders_daily_a — количество заказов в выбранную дату в группе B;\n",
    "    revenue_per_date_a — суммарная выручка в выбранную дату в группе B;\n",
    "    orders_cummulative_a — суммарное число заказов до выбранной даты включительно в группе A;\n",
    "    revenue_cummulative_a — суммарная выручка до выбранной даты включительно в группе A;\n",
    "    orders_cummulative_b — суммарное количество заказов до выбранной даты включительно в группе B;\n",
    "    revenue_cummulative_b — суммарная выручка до выбранной даты включительно в группе B;\n",
    "    visitors_per_date_a — количество пользователей в выбранную дату в группе A;\n",
    "    visitors_per_date_b — количество пользователей в выбранную дату в группе B;\n",
    "    visitors_cummulative_a — количество пользователей до выбранной даты включительно в группе A;\n",
    "    visitors_cummulative_b — количество пользователей до выбранной даты включительно в группе B."
   ]
  },
  {
   "cell_type": "markdown",
   "id": "dc00a2c7",
   "metadata": {},
   "source": [
    "Посчитаем статистическую значимость различия в среднем количестве заказов между группами:"
   ]
  },
  {
   "cell_type": "code",
   "execution_count": 100,
   "id": "0341877b",
   "metadata": {},
   "outputs": [],
   "source": [
    "\n",
    "# Создадим переменные orders_by_users_a и orders_by_users_b со столбцами ['visitor_id', 'orders'].\n",
    "# В них для пользователей, которые заказывали хотя бы 1 раз, укажем число совершённых заказов. \n",
    "\n",
    "orders_by_users_a = (\n",
    "    orders[orders['group'] == 'A']\n",
    "    .groupby('visitor_id', as_index=False)\n",
    "    .agg({'transaction_id': pd.Series.nunique})\n",
    ")\n",
    "orders_by_users_a.columns = ['visitor_id', 'orders']\n",
    "\n",
    "orders_by_users_b = (\n",
    "    orders[orders['group'] == 'B']\n",
    "    .groupby('visitor_id', as_index=False)\n",
    "    .agg({'transaction_id': pd.Series.nunique})\n",
    ")\n",
    "orders_by_users_b.columns = ['visitor_id', 'orders']"
   ]
  },
  {
   "cell_type": "code",
   "execution_count": 101,
   "id": "b9a98295",
   "metadata": {},
   "outputs": [],
   "source": [
    "#Объявим переменные sample_a и sample_b, в которых пользователям из разных групп будет соответствовать количество заказов. \n",
    "#Тем, кто ничего не заказал, будут соответствовать нули. \n",
    "\n",
    "sample_a = pd.concat([orders_by_users_a['orders'],\n",
    "                      pd.Series(\n",
    "                          0, \n",
    "                          index=np.arange(data['visitors_per_date_a'].sum() - \n",
    "                                          len(orders_by_users_a['orders'])), \n",
    "                          name='orders')],axis=0\n",
    "                    )\n",
    "\n",
    "sample_b = pd.concat([orders_by_users_b['orders'],\n",
    "                      pd.Series(\n",
    "                          0, \n",
    "                          index=np.arange(data['visitors_per_date_b'].sum() - \n",
    "                                          len(orders_by_users_b['orders'])), \n",
    "                          name='orders')],axis=0\n",
    "                    )"
   ]
  },
  {
   "cell_type": "markdown",
   "id": "9978b339",
   "metadata": {},
   "source": [
    "#### Сформулируем гипотеты и критерии для анализа: \n",
    "- Гипотеза Н0: различий в конверисии между группами нет\n",
    "- Гипотеза Н1: различий в конверисии между группами есть\n",
    "\n",
    "Уроровень статистической значимости примем равным 5% "
   ]
  },
  {
   "cell_type": "code",
   "execution_count": 102,
   "id": "8d98604d",
   "metadata": {},
   "outputs": [
    {
     "name": "stdout",
     "output_type": "stream",
     "text": [
      "P-value: 0.017\n",
      "Отвергаем нулевую гипотезу: между группами есть разница\n",
      "Относительный прирост В к А: 13.808%\n"
     ]
    }
   ],
   "source": [
    "alpha = 0.05\n",
    "p_value = stats.mannwhitneyu(sample_a, sample_b)[1]\n",
    "\n",
    "print(\"P-value: {0:.3f}\".format(p_value))\n",
    "\n",
    "if (p_value < alpha):\n",
    "        print(\"Отвергаем нулевую гипотезу: между группами есть разница\")\n",
    "else:\n",
    "        print(\"Не получилось отвергнуть нулевую гипотезу, нет оснований считать группы разными\")\n",
    "    \n",
    "print(\"Относительный прирост В к А: {0:.3%}\".format(sample_b.mean() / sample_a.mean()-1))"
   ]
  },
  {
   "cell_type": "markdown",
   "id": "94cb7b3e",
   "metadata": {},
   "source": [
    "По сырым данным между исследуемыми группами получилась разница в кол-ве заказов. Относительный прирост оказался сущетсвенным в районе 14%. Связано ли это с аномалиями?   "
   ]
  },
  {
   "cell_type": "markdown",
   "id": "f28e6e07",
   "metadata": {},
   "source": [
    "### Расчет статистической значимости различий в среднем чеке заказа между группами по «сырым» данным."
   ]
  },
  {
   "cell_type": "markdown",
   "id": "998c9483",
   "metadata": {},
   "source": [
    "Сформулируем гипотеты и критерии для анализа:\n",
    "\n",
    " - Гипотеза Н0: различий в конверисии между группами нет\n",
    "\n",
    " - Гипотеза Н1: различий в конверисии между группами есть\n",
    "\n",
    "Уроровень статистической значимости примемем равным 5%"
   ]
  },
  {
   "cell_type": "code",
   "execution_count": 103,
   "id": "91cfbdca",
   "metadata": {},
   "outputs": [
    {
     "name": "stdout",
     "output_type": "stream",
     "text": [
      "P-value: 0.729\n",
      "Не получилось отвергнуть нулевую гипотезу, нет оснований считать группы разными\n",
      "Относительный прирост В к А: 25.871%\n"
     ]
    }
   ],
   "source": [
    "alpha = 0.05\n",
    "p_value = stats.mannwhitneyu(orders[orders['group']=='A']['revenue'], orders[orders['group']=='B']['revenue'])[1]\n",
    "\n",
    "print(\"P-value: {0:.3f}\".format(p_value))\n",
    "\n",
    "if (p_value < alpha):\n",
    "        print(\"Отвергаем нулевую гипотезу: между группами есть разница\")\n",
    "else:\n",
    "        print(\"Не получилось отвергнуть нулевую гипотезу, нет оснований считать группы разными\")\n",
    "    \n",
    "print(\"Относительный прирост В к А: {0:.3%}\".format(orders[orders['group']=='B']['revenue'].mean()/\n",
    "                                                    orders[orders['group']=='A']['revenue'].mean()-1))"
   ]
  },
  {
   "cell_type": "markdown",
   "id": "28487ca3",
   "metadata": {},
   "source": [
    "В данном случае нулевую гипотезу отвергнуть не почилось, однако относительный прирост оказался существенным, возможно дело в аномалиях."
   ]
  },
  {
   "cell_type": "markdown",
   "id": "5c13ad52",
   "metadata": {},
   "source": [
    "### Рассчет статистической значимости различий в среднем количестве заказов между группами по «очищенным» данным."
   ]
  },
  {
   "cell_type": "markdown",
   "id": "79417328",
   "metadata": {},
   "source": [
    "Примем за аномальных пользователей тех, кто совершил от 5 заказов или совершил заказ дороже 58233. Так мы уберём 1% пользователей с наибольшим числом заказов и от 1% пользователей с дорогими заказами. Сделаем срезы пользователей с числом заказов больше 4 — users_with_many_orders и пользователей, совершивших заказы дороже 58233 — users_with_expensive_orders. Объединим их в таблице abnormal_users.\n",
    "Узнаем, сколько всего аномальных пользователей методом shape()."
   ]
  },
  {
   "cell_type": "code",
   "execution_count": 104,
   "id": "850e5c80",
   "metadata": {},
   "outputs": [
    {
     "data": {
      "text/plain": [
       "1099     148427295\n",
       "949      887908475\n",
       "744      888512513\n",
       "1103    1164614297\n",
       "1136    1307669133\n",
       "Name: visitor_id, dtype: int64"
      ]
     },
     "metadata": {},
     "output_type": "display_data"
    },
    {
     "data": {
      "text/plain": [
       "15"
      ]
     },
     "execution_count": 104,
     "metadata": {},
     "output_type": "execute_result"
    }
   ],
   "source": [
    "many_orders = np.percentile(orders_by_users['orders'], 99)\n",
    "expensive_orders = np.percentile(orders['revenue'], 99)\n",
    "\n",
    "\n",
    "users_with_many_orders = pd.concat(\n",
    "    [\n",
    "        orders_by_users_a[orders_by_users_a['orders'] > many_orders]['visitor_id'],\n",
    "        orders_by_users_b[orders_by_users_b['orders'] > many_orders]['visitor_id'],\n",
    "    ],\n",
    "    axis=0,\n",
    ")\n",
    "\n",
    "\n",
    "users_with_expensive_orders = orders[orders['revenue'] > expensive_orders]['visitor_id']\n",
    "\n",
    "\n",
    "abnormal_users = (\n",
    "    pd.concat([users_with_many_orders, users_with_expensive_orders], axis=0)\n",
    "    .drop_duplicates()\n",
    "    .sort_values()\n",
    ")\n",
    "display(abnormal_users.head(5))\n",
    "abnormal_users.shape[0]"
   ]
  },
  {
   "cell_type": "markdown",
   "id": "57a4e7e5",
   "metadata": {},
   "source": [
    "Всего 15 аномальных пользователей, рассмотрим поведение групп без них"
   ]
  },
  {
   "cell_type": "code",
   "execution_count": 105,
   "id": "5f5dba16",
   "metadata": {},
   "outputs": [],
   "source": [
    "#Подготовим выборки количества заказов по пользователям по группам теста:\n",
    "\n",
    "sample_a_filtered = pd.concat(\n",
    "    [\n",
    "        orders_by_users_a[\n",
    "            np.logical_not(orders_by_users_a['visitor_id'].isin(abnormal_users))\n",
    "        ]['orders'],\n",
    "        pd.Series(\n",
    "            0,\n",
    "            index=np.arange(\n",
    "                data['visitors_per_date_a'].sum() - len(orders_by_users_a['orders'])\n",
    "            ),\n",
    "            name='orders',\n",
    "        ),\n",
    "    ],\n",
    "    axis=0,\n",
    ")\n",
    "\n",
    "sample_b_filtered = pd.concat(\n",
    "    [\n",
    "        orders_by_users_b[\n",
    "            np.logical_not(orders_by_users_b['visitor_id'].isin(abnormal_users))\n",
    "        ]['orders'],\n",
    "        pd.Series(\n",
    "            0,\n",
    "            index=np.arange(\n",
    "                data['visitors_per_date_b'].sum() - len(orders_by_users_b['orders'])\n",
    "            ),\n",
    "            name='orders',\n",
    "        ),\n",
    "    ],\n",
    "    axis=0,\n",
    ")"
   ]
  },
  {
   "cell_type": "code",
   "execution_count": 106,
   "id": "259b496d",
   "metadata": {},
   "outputs": [
    {
     "name": "stdout",
     "output_type": "stream",
     "text": [
      "P-value: 0.014\n",
      "Отвергаем нулевую гипотезу: между группами есть разница\n",
      "Относительный прирост В к А: 15.331%\n"
     ]
    }
   ],
   "source": [
    "alpha = 0.05\n",
    "p_value = stats.mannwhitneyu(sample_a_filtered, sample_b_filtered)[1]\n",
    "print(\"P-value: {0:.3f}\".format(p_value))\n",
    "\n",
    "if (p_value < alpha):\n",
    "        print(\"Отвергаем нулевую гипотезу: между группами есть разница\")\n",
    "else:\n",
    "        print(\"Не получилось отвергнуть нулевую гипотезу, нет оснований считать группы разными\")\n",
    "    \n",
    "print(\"Относительный прирост В к А: {0:.3%}\".format(sample_b_filtered.mean()/ sample_a_filtered.mean()-1))"
   ]
  },
  {
   "cell_type": "markdown",
   "id": "053d38ae",
   "metadata": {},
   "source": [
    "Убрав аномалии разница между группами сохранилась, относительный прирост увелисился до 15% "
   ]
  },
  {
   "cell_type": "markdown",
   "id": "947077e2",
   "metadata": {},
   "source": [
    "### Рассчет статистической значимости различий в среднем чеке стоимости заказов между группами по «очищенным» данным."
   ]
  },
  {
   "cell_type": "code",
   "execution_count": 107,
   "id": "6dbcd146",
   "metadata": {},
   "outputs": [
    {
     "name": "stdout",
     "output_type": "stream",
     "text": [
      "P-value: 0.851\n",
      "Не получилось отвергнуть нулевую гипотезу, нет оснований считать группы разными\n",
      "Относительный прирост В к А: -0.575%\n"
     ]
    }
   ],
   "source": [
    "alpha = 0.05\n",
    "p_value = stats.mannwhitneyu(orders[(orders['group']=='A') & \n",
    "np.logical_not(orders['visitor_id'].isin(abnormal_users))]['revenue'], \n",
    "orders[(orders['group']=='B') & \n",
    "np.logical_not(orders['visitor_id'].isin(abnormal_users))]['revenue'])[1]\n",
    "print(\"P-value: {0:.3f}\".format(p_value))\n",
    "\n",
    "if (p_value < alpha):\n",
    "        print(\"Отвергаем нулевую гипотезу: между группами есть разница\")\n",
    "else:\n",
    "        print(\"Не получилось отвергнуть нулевую гипотезу, нет оснований считать группы разными\")\n",
    "    \n",
    "print(\"Относительный прирост В к А: {0:.3%}\".format(orders[(orders['group']=='B') & \n",
    "np.logical_not(orders['visitor_id'].isin(abnormal_users))]['revenue'].mean() /\n",
    "orders[(orders['group']=='A') & np.logical_not(orders['visitor_id'].isin(abnormal_users))]['revenue'].mean()-1))"
   ]
  },
  {
   "cell_type": "markdown",
   "id": "1587a78e",
   "metadata": {},
   "source": [
    "### Выводы: \n",
    "\n",
    "##### Приоретизация гипотез. \n",
    "\n",
    "- Среди отсортированных методом ICE топ 3 гипотезами являются: \n",
    "    - Запустить акцию, дающую скидку на товар в день рождения.\n",
    "    - Добавить два новых канала привлечения трафика, что позволит привлекать на 30% больше пользователей.\n",
    "    - Добавить форму подписки на все основные страницы, чтобы собрать базу клиентов для email-рассылок.\n",
    "- В случае учета охвата пользователей при использовании метода RICE первенство занимают следующие гипотезы:\n",
    "    - Добавить форму подписки на все основные страницы, чтобы собрать базу клиентов для email-рассылок.\n",
    "    - Добавить блоки рекомендаций товаров на сайт интернет магазина, чтобы повысить конверсию и средний чек заказа.\n",
    "    - Добавить два новых канала привлечения трафика, что позволит привлекать на 30% больше пользователей.\n",
    "    \n",
    "##### Анализ A/B-теста.\n",
    "Проанализировав результаты A/B таста были выявлены следующие зависимости и особенности:\n",
    "\n",
    "- кумулятивные метрики (с накоплением) группы B после выравнивания были стабильно выше группы А\n",
    "- При рассчете статистической значимости в кол-ве заказв между группами по \"сырым\" данным выявилась разница в кол-ве заказов. Относительный прирост оказался сущетсвенным в районе 14%. После очистки данных от выбросов разница сохранилась, относительный прирост составил 15%\n",
    "- При рассчете статистической значимости в среднем чеке заказа между группами по \"сырым\" данным разницы в кол-ве заказов не наблюдалось, несмотря на относительный прирост, что можно списать на выбросы. После очистки данных от выбросов разницы так же не выявилось, относительный прирост был близок к 0\n",
    "- в процессе исследования были выявлены аномалии как по количству заказов, так и по стоимости заказа. После очистки сохранилось 99% данных.\n",
    "\n",
    "Подводя итоги, можно сказать, что во второй половине теста результаты стабилизировались и не подвергались большим скачкам, поэтому продолжать тест нет смысла. Несмотря на то, что средний чек не изменился, мы могли наблюдать увеличение ко-ва заказов, что в свою очередь увеличит выручку компании. Предлагаю объявить победу группы \"B\" и закончить эксперимент."
   ]
  }
 ],
 "metadata": {
  "ExecuteTimeLog": [
   {
    "duration": 1229,
    "start_time": "2023-06-01T08:09:14.286Z"
   },
   {
    "duration": 502,
    "start_time": "2023-06-01T08:09:15.517Z"
   },
   {
    "duration": 21,
    "start_time": "2023-06-01T08:09:16.021Z"
   },
   {
    "duration": 27,
    "start_time": "2023-06-01T08:09:16.044Z"
   },
   {
    "duration": 37,
    "start_time": "2023-06-01T08:09:16.074Z"
   },
   {
    "duration": 44,
    "start_time": "2023-06-01T08:09:16.113Z"
   },
   {
    "duration": 26,
    "start_time": "2023-06-01T08:09:16.159Z"
   },
   {
    "duration": 36,
    "start_time": "2023-06-01T08:09:16.187Z"
   },
   {
    "duration": 15,
    "start_time": "2023-06-01T08:09:16.232Z"
   },
   {
    "duration": 16,
    "start_time": "2023-06-01T08:09:16.249Z"
   },
   {
    "duration": 33,
    "start_time": "2023-06-01T08:09:16.267Z"
   },
   {
    "duration": 34,
    "start_time": "2023-06-01T08:09:16.303Z"
   },
   {
    "duration": 34,
    "start_time": "2023-06-01T08:09:16.339Z"
   },
   {
    "duration": 12,
    "start_time": "2023-06-01T08:09:16.376Z"
   },
   {
    "duration": 225,
    "start_time": "2023-06-01T08:09:16.390Z"
   },
   {
    "duration": 205,
    "start_time": "2023-06-01T08:09:16.618Z"
   },
   {
    "duration": 15,
    "start_time": "2023-06-01T08:09:16.824Z"
   },
   {
    "duration": 414,
    "start_time": "2023-06-01T08:09:16.842Z"
   },
   {
    "duration": 229,
    "start_time": "2023-06-01T08:09:17.259Z"
   },
   {
    "duration": 315,
    "start_time": "2023-06-01T08:09:17.489Z"
   },
   {
    "duration": 273,
    "start_time": "2023-06-01T08:09:17.806Z"
   },
   {
    "duration": 301,
    "start_time": "2023-06-01T08:09:18.080Z"
   },
   {
    "duration": 157,
    "start_time": "2023-06-01T08:09:18.382Z"
   },
   {
    "duration": 6,
    "start_time": "2023-06-01T08:09:18.540Z"
   },
   {
    "duration": 150,
    "start_time": "2023-06-01T08:09:18.547Z"
   },
   {
    "duration": 5,
    "start_time": "2023-06-01T08:09:18.699Z"
   },
   {
    "duration": 280,
    "start_time": "2023-06-01T08:09:18.705Z"
   },
   {
    "duration": 159,
    "start_time": "2023-06-01T08:09:18.987Z"
   },
   {
    "duration": 8,
    "start_time": "2023-06-01T08:09:19.147Z"
   },
   {
    "duration": 33,
    "start_time": "2023-06-01T08:09:19.157Z"
   },
   {
    "duration": 10,
    "start_time": "2023-06-01T08:09:19.192Z"
   },
   {
    "duration": 31,
    "start_time": "2023-06-01T08:09:19.204Z"
   },
   {
    "duration": 13,
    "start_time": "2023-06-01T08:09:19.236Z"
   },
   {
    "duration": 34,
    "start_time": "2023-06-01T08:09:19.251Z"
   },
   {
    "duration": 44,
    "start_time": "2023-06-01T08:09:19.287Z"
   },
   {
    "duration": 50,
    "start_time": "2023-06-01T08:57:48.562Z"
   },
   {
    "duration": 1218,
    "start_time": "2023-06-01T08:58:11.102Z"
   },
   {
    "duration": 276,
    "start_time": "2023-06-01T08:58:12.322Z"
   },
   {
    "duration": 11,
    "start_time": "2023-06-01T08:58:12.600Z"
   },
   {
    "duration": 17,
    "start_time": "2023-06-01T08:58:12.612Z"
   },
   {
    "duration": 9,
    "start_time": "2023-06-01T08:58:12.631Z"
   },
   {
    "duration": 10,
    "start_time": "2023-06-01T08:58:12.642Z"
   },
   {
    "duration": 7,
    "start_time": "2023-06-01T08:58:12.654Z"
   },
   {
    "duration": 23,
    "start_time": "2023-06-01T08:58:12.663Z"
   },
   {
    "duration": 17,
    "start_time": "2023-06-01T08:58:12.687Z"
   },
   {
    "duration": 13,
    "start_time": "2023-06-01T08:58:12.705Z"
   },
   {
    "duration": 15,
    "start_time": "2023-06-01T08:58:12.719Z"
   },
   {
    "duration": 15,
    "start_time": "2023-06-01T08:58:12.736Z"
   },
   {
    "duration": 84,
    "start_time": "2023-06-01T08:58:12.753Z"
   },
   {
    "duration": 0,
    "start_time": "2023-06-01T08:58:12.839Z"
   },
   {
    "duration": 0,
    "start_time": "2023-06-01T08:58:12.840Z"
   },
   {
    "duration": 0,
    "start_time": "2023-06-01T08:58:12.841Z"
   },
   {
    "duration": 0,
    "start_time": "2023-06-01T08:58:12.842Z"
   },
   {
    "duration": 0,
    "start_time": "2023-06-01T08:58:12.843Z"
   },
   {
    "duration": 0,
    "start_time": "2023-06-01T08:58:12.844Z"
   },
   {
    "duration": 0,
    "start_time": "2023-06-01T08:58:12.844Z"
   },
   {
    "duration": 0,
    "start_time": "2023-06-01T08:58:12.845Z"
   },
   {
    "duration": 0,
    "start_time": "2023-06-01T08:58:12.846Z"
   },
   {
    "duration": 0,
    "start_time": "2023-06-01T08:58:12.847Z"
   },
   {
    "duration": 0,
    "start_time": "2023-06-01T08:58:12.848Z"
   },
   {
    "duration": 0,
    "start_time": "2023-06-01T08:58:12.849Z"
   },
   {
    "duration": 0,
    "start_time": "2023-06-01T08:58:12.849Z"
   },
   {
    "duration": 0,
    "start_time": "2023-06-01T08:58:12.850Z"
   },
   {
    "duration": 0,
    "start_time": "2023-06-01T08:58:12.851Z"
   },
   {
    "duration": 0,
    "start_time": "2023-06-01T08:58:12.852Z"
   },
   {
    "duration": 0,
    "start_time": "2023-06-01T08:58:12.853Z"
   },
   {
    "duration": 0,
    "start_time": "2023-06-01T08:58:12.854Z"
   },
   {
    "duration": 0,
    "start_time": "2023-06-01T08:58:12.855Z"
   },
   {
    "duration": 0,
    "start_time": "2023-06-01T08:58:12.856Z"
   },
   {
    "duration": 0,
    "start_time": "2023-06-01T08:58:12.857Z"
   },
   {
    "duration": 0,
    "start_time": "2023-06-01T08:58:12.858Z"
   },
   {
    "duration": 15,
    "start_time": "2023-06-01T09:02:09.211Z"
   },
   {
    "duration": 15,
    "start_time": "2023-06-01T09:02:20.382Z"
   },
   {
    "duration": 11,
    "start_time": "2023-06-01T09:03:22.446Z"
   },
   {
    "duration": 181,
    "start_time": "2023-06-01T09:03:24.650Z"
   },
   {
    "duration": 128,
    "start_time": "2023-06-01T09:03:25.314Z"
   },
   {
    "duration": 13,
    "start_time": "2023-06-01T09:03:25.691Z"
   },
   {
    "duration": 271,
    "start_time": "2023-06-01T09:03:44.771Z"
   },
   {
    "duration": 4,
    "start_time": "2023-06-01T09:22:13.344Z"
   },
   {
    "duration": 4,
    "start_time": "2023-06-01T09:22:34.396Z"
   },
   {
    "duration": 5,
    "start_time": "2023-06-01T09:23:37.840Z"
   },
   {
    "duration": 5,
    "start_time": "2023-06-01T09:24:09.970Z"
   },
   {
    "duration": 6,
    "start_time": "2023-06-01T09:24:24.679Z"
   },
   {
    "duration": 44,
    "start_time": "2023-06-01T09:25:27.441Z"
   },
   {
    "duration": 6,
    "start_time": "2023-06-01T09:25:36.214Z"
   },
   {
    "duration": 6,
    "start_time": "2023-06-01T09:26:20.423Z"
   },
   {
    "duration": 7,
    "start_time": "2023-06-01T09:27:08.725Z"
   },
   {
    "duration": 3,
    "start_time": "2023-06-01T09:32:10.252Z"
   },
   {
    "duration": 104,
    "start_time": "2023-06-01T09:32:10.257Z"
   },
   {
    "duration": 12,
    "start_time": "2023-06-01T09:32:10.363Z"
   },
   {
    "duration": 13,
    "start_time": "2023-06-01T09:32:10.377Z"
   },
   {
    "duration": 14,
    "start_time": "2023-06-01T09:32:10.393Z"
   },
   {
    "duration": 11,
    "start_time": "2023-06-01T09:32:10.410Z"
   },
   {
    "duration": 6,
    "start_time": "2023-06-01T09:32:10.422Z"
   },
   {
    "duration": 25,
    "start_time": "2023-06-01T09:32:10.430Z"
   },
   {
    "duration": 19,
    "start_time": "2023-06-01T09:32:10.457Z"
   },
   {
    "duration": 24,
    "start_time": "2023-06-01T09:32:10.479Z"
   },
   {
    "duration": 18,
    "start_time": "2023-06-01T09:32:10.505Z"
   },
   {
    "duration": 35,
    "start_time": "2023-06-01T09:32:10.525Z"
   },
   {
    "duration": 15,
    "start_time": "2023-06-01T09:32:10.562Z"
   },
   {
    "duration": 11,
    "start_time": "2023-06-01T09:32:10.581Z"
   },
   {
    "duration": 177,
    "start_time": "2023-06-01T09:32:10.594Z"
   },
   {
    "duration": 158,
    "start_time": "2023-06-01T09:32:10.773Z"
   },
   {
    "duration": 12,
    "start_time": "2023-06-01T09:32:10.932Z"
   },
   {
    "duration": 14,
    "start_time": "2023-06-01T09:32:10.946Z"
   },
   {
    "duration": 208,
    "start_time": "2023-06-01T09:32:10.962Z"
   },
   {
    "duration": 189,
    "start_time": "2023-06-01T09:32:11.172Z"
   },
   {
    "duration": 359,
    "start_time": "2023-06-01T09:32:11.363Z"
   },
   {
    "duration": 247,
    "start_time": "2023-06-01T09:32:11.724Z"
   },
   {
    "duration": 361,
    "start_time": "2023-06-01T09:32:11.974Z"
   },
   {
    "duration": 133,
    "start_time": "2023-06-01T09:32:12.337Z"
   },
   {
    "duration": 6,
    "start_time": "2023-06-01T09:32:12.472Z"
   },
   {
    "duration": 154,
    "start_time": "2023-06-01T09:32:12.479Z"
   },
   {
    "duration": 4,
    "start_time": "2023-06-01T09:32:12.635Z"
   },
   {
    "duration": 212,
    "start_time": "2023-06-01T09:34:52.035Z"
   },
   {
    "duration": 112,
    "start_time": "2023-06-01T09:35:45.742Z"
   },
   {
    "duration": 97,
    "start_time": "2023-06-01T09:35:51.574Z"
   },
   {
    "duration": 125,
    "start_time": "2023-06-01T09:36:06.252Z"
   },
   {
    "duration": 216,
    "start_time": "2023-06-01T09:36:38.482Z"
   },
   {
    "duration": 133,
    "start_time": "2023-06-01T09:36:49.300Z"
   },
   {
    "duration": 119,
    "start_time": "2023-06-01T09:36:58.488Z"
   },
   {
    "duration": 140,
    "start_time": "2023-06-01T09:37:11.147Z"
   },
   {
    "duration": 140,
    "start_time": "2023-06-01T09:37:16.484Z"
   },
   {
    "duration": 139,
    "start_time": "2023-06-01T09:37:21.084Z"
   },
   {
    "duration": 127,
    "start_time": "2023-06-01T09:37:44.342Z"
   },
   {
    "duration": 125,
    "start_time": "2023-06-01T09:37:54.731Z"
   },
   {
    "duration": 132,
    "start_time": "2023-06-01T09:38:02.690Z"
   },
   {
    "duration": 4,
    "start_time": "2023-06-01T09:44:24.495Z"
   },
   {
    "duration": 121,
    "start_time": "2023-06-01T09:44:24.501Z"
   },
   {
    "duration": 14,
    "start_time": "2023-06-01T09:44:24.624Z"
   },
   {
    "duration": 12,
    "start_time": "2023-06-01T09:44:24.640Z"
   },
   {
    "duration": 28,
    "start_time": "2023-06-01T09:44:24.654Z"
   },
   {
    "duration": 17,
    "start_time": "2023-06-01T09:44:24.684Z"
   },
   {
    "duration": 30,
    "start_time": "2023-06-01T09:44:24.703Z"
   },
   {
    "duration": 36,
    "start_time": "2023-06-01T09:44:24.735Z"
   },
   {
    "duration": 20,
    "start_time": "2023-06-01T09:44:24.773Z"
   },
   {
    "duration": 14,
    "start_time": "2023-06-01T09:44:24.795Z"
   },
   {
    "duration": 92,
    "start_time": "2023-06-01T09:44:24.811Z"
   },
   {
    "duration": 17,
    "start_time": "2023-06-01T09:44:24.905Z"
   },
   {
    "duration": 11,
    "start_time": "2023-06-01T09:44:24.923Z"
   },
   {
    "duration": 16,
    "start_time": "2023-06-01T09:44:24.936Z"
   },
   {
    "duration": 174,
    "start_time": "2023-06-01T09:44:24.953Z"
   },
   {
    "duration": 136,
    "start_time": "2023-06-01T09:44:25.128Z"
   },
   {
    "duration": 8,
    "start_time": "2023-06-01T09:44:25.266Z"
   },
   {
    "duration": 13,
    "start_time": "2023-06-01T09:44:25.276Z"
   },
   {
    "duration": 216,
    "start_time": "2023-06-01T09:44:25.291Z"
   },
   {
    "duration": 204,
    "start_time": "2023-06-01T09:44:25.509Z"
   },
   {
    "duration": 351,
    "start_time": "2023-06-01T09:44:25.717Z"
   },
   {
    "duration": 211,
    "start_time": "2023-06-01T09:44:26.070Z"
   },
   {
    "duration": 321,
    "start_time": "2023-06-01T09:44:26.282Z"
   },
   {
    "duration": 133,
    "start_time": "2023-06-01T09:44:26.605Z"
   },
   {
    "duration": 5,
    "start_time": "2023-06-01T09:44:26.740Z"
   },
   {
    "duration": 140,
    "start_time": "2023-06-01T09:44:26.746Z"
   },
   {
    "duration": 144,
    "start_time": "2023-06-01T09:44:26.888Z"
   },
   {
    "duration": 5,
    "start_time": "2023-06-01T09:44:27.034Z"
   },
   {
    "duration": 224,
    "start_time": "2023-06-01T09:44:27.041Z"
   },
   {
    "duration": 152,
    "start_time": "2023-06-01T09:44:27.266Z"
   },
   {
    "duration": 7,
    "start_time": "2023-06-01T09:44:27.420Z"
   },
   {
    "duration": 26,
    "start_time": "2023-06-01T09:44:27.429Z"
   },
   {
    "duration": 16,
    "start_time": "2023-06-01T09:44:27.457Z"
   },
   {
    "duration": 42,
    "start_time": "2023-06-01T09:44:27.476Z"
   },
   {
    "duration": 11,
    "start_time": "2023-06-01T09:44:27.521Z"
   },
   {
    "duration": 32,
    "start_time": "2023-06-01T09:44:27.534Z"
   },
   {
    "duration": 13,
    "start_time": "2023-06-01T09:44:27.567Z"
   }
  ],
  "kernelspec": {
   "display_name": "Python 3 (ipykernel)",
   "language": "python",
   "name": "python3"
  },
  "language_info": {
   "codemirror_mode": {
    "name": "ipython",
    "version": 3
   },
   "file_extension": ".py",
   "mimetype": "text/x-python",
   "name": "python",
   "nbconvert_exporter": "python",
   "pygments_lexer": "ipython3",
   "version": "3.9.13"
  },
  "toc": {
   "base_numbering": 1,
   "nav_menu": {},
   "number_sections": true,
   "sideBar": true,
   "skip_h1_title": true,
   "title_cell": "Table of Contents",
   "title_sidebar": "Contents",
   "toc_cell": false,
   "toc_position": {},
   "toc_section_display": true,
   "toc_window_display": false
  }
 },
 "nbformat": 4,
 "nbformat_minor": 5
}
